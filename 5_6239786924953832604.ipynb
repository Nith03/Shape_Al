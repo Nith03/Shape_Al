{
  "nbformat": 4,
  "nbformat_minor": 0,
  "metadata": {
    "colab": {
      "name": "Untitled4.ipynb",
      "provenance": []
    },
    "kernelspec": {
      "name": "python3",
      "display_name": "Python 3"
    },
    "language_info": {
      "name": "python"
    }
  },
  "cells": [
    {
      "cell_type": "code",
      "metadata": {
        "id": "yv_yKQMKr0V7"
      },
      "source": [
        ""
      ],
      "execution_count": null,
      "outputs": []
    },
    {
      "cell_type": "code",
      "metadata": {
        "colab": {
          "base_uri": "https://localhost:8080/"
        },
        "id": "u28B6DuTr52B",
        "outputId": "573cd25b-8b06-432e-d8b5-2f9a1fc98cf1"
      },
      "source": [
        "import requests\n",
        "#import os\n",
        "from datetime import datetime\n",
        "\n",
        "api_key = '433d4f9ab27033c8e705f3fae0a254c9'\n",
        "location = input(\"Enter the city name: \")\n",
        "\n",
        "complete_api_link = \"https://api.openweathermap.org/data/2.5/weather?q=\"+location+\"&appid=\"+api_key\n",
        "api_link = requests.get(complete_api_link)\n",
        "api_data = api_link.json()\n",
        "\n",
        "#create variables to store and display data\n",
        "temp_city=((api_data['main']['temp']) - 273.15)\n",
        "weather_desc = api_data['weather'][0]['description']\n",
        "hmdt = api_data['main']['humidity']\n",
        "wind_spd = api_data['wind']['speed']\n",
        "date_time = datetime.now().strftime(\"%d %b %Y | %I:%M:%S %p\")\n",
        "\n",
        "print (\"-------------------------------------------------------------\")\n",
        "print (\"Weather Stats for - {}  || {}\".format(location.upper(), date_time))\n",
        "print (\"-------------------------------------------------------------\")\n",
        "print (\"current temperature is: {:.2f} deg C\".format(temp_city))\n",
        "print (\"Current weather desc  :\",weather_desc)\n",
        "print (\"Current Humidity      :\",hmdt, '%')\n",
        "print (\"Current wind speed    :\",wind_spd ,'kmph')"
      ],
      "execution_count": 2,
      "outputs": [
        {
          "output_type": "stream",
          "text": [
            "Enter the city name: palakkad\n",
            "-------------------------------------------------------------\n",
            "Weather Stats for - PALAKKAD  || 23 Jun 2021 | 11:45:16 AM\n",
            "-------------------------------------------------------------\n",
            "current temperature is: 33.03 deg C\n",
            "Current weather desc  : overcast clouds\n",
            "Current Humidity      : 73 %\n",
            "Current wind speed    : 5.54 kmph\n"
          ],
          "name": "stdout"
        }
      ]
    },
    {
      "cell_type": "code",
      "metadata": {
        "id": "-sT_XlE9sFHV"
      },
      "source": [
        "txtdoc=[temp_city,weather_desc,hmdt,wind_spd,date_time]\n",
        "with open(\"HUSSAIN.txt\",'w',encoding = 'utf-8')as f:\n",
        "  f.write(\"------------------------------------------------------------------------------------------------------------------------------\")\n",
        "  f.write(\"weather stats for - {} || {}\".format(location.upper(),date_time))\n",
        "  f.write(\"------------------------------------------------------------------------------------------------------------------------------\")\n",
        "  f.write(\"current Temperature is: (:.2f) deg (\\n\".format(txtdoc[0]))\n",
        "\n",
        "  f.write(\"{},{}\\n\".format(\"Current weather desc :\",txtdoc[1]))\n",
        "  f.write(\"{} ,{} ,{} \\n\".format(\"Current Humidity :\",txtdoc[2],\"%\"))\n",
        "  f.write(\"{} ,{} ,{} \\n\".format(\"Current wind speed :\",txtdoc[3],\"kmph\"))\n",
        "  f.write(\"-------------------------------------------------------------------------------------------------------------------------------\")\n",
        "  f.close"
      ],
      "execution_count": 6,
      "outputs": []
    }
  ]
}